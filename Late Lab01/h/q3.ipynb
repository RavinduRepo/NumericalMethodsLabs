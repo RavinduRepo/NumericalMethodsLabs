{
 "cells": [
  {
   "cell_type": "code",
   "execution_count": 1,
   "metadata": {},
   "outputs": [
    {
     "ename": "ModuleNotFoundError",
     "evalue": "No module named 'pandas'",
     "output_type": "error",
     "traceback": [
      "\u001b[1;31m---------------------------------------------------------------------------\u001b[0m",
      "\u001b[1;31mModuleNotFoundError\u001b[0m                       Traceback (most recent call last)",
      "Cell \u001b[1;32mIn[1], line 5\u001b[0m\n\u001b[0;32m      3\u001b[0m \u001b[38;5;28;01mfrom\u001b[39;00m \u001b[38;5;21;01mnumpy\u001b[39;00m\u001b[38;5;21;01m.\u001b[39;00m\u001b[38;5;21;01mlinalg\u001b[39;00m \u001b[38;5;28;01mimport\u001b[39;00m eigh\n\u001b[0;32m      4\u001b[0m \u001b[38;5;28;01mimport\u001b[39;00m \u001b[38;5;21;01mmatplotlib\u001b[39;00m\u001b[38;5;21;01m.\u001b[39;00m\u001b[38;5;21;01mpyplot\u001b[39;00m \u001b[38;5;28;01mas\u001b[39;00m \u001b[38;5;21;01mplt\u001b[39;00m\n\u001b[1;32m----> 5\u001b[0m \u001b[38;5;28;01mimport\u001b[39;00m \u001b[38;5;21;01mpandas\u001b[39;00m \u001b[38;5;28;01mas\u001b[39;00m \u001b[38;5;21;01mpd\u001b[39;00m\n",
      "\u001b[1;31mModuleNotFoundError\u001b[0m: No module named 'pandas'"
     ]
    }
   ],
   "source": [
    "from scipy import integrate\n",
    "import numpy as np\n",
    "from numpy.linalg import eigh\n",
    "import matplotlib.pyplot as plt\n",
    "import pandas as pd"
   ]
  },
  {
   "cell_type": "code",
   "execution_count": null,
   "metadata": {},
   "outputs": [],
   "source": [
    "f = lambda x : (2/np.sqrt(np.pi))*np.e**(-x**2)"
   ]
  },
  {
   "cell_type": "markdown",
   "metadata": {},
   "source": [
    "a) Find the value of the integral for a = 1.5 with scipy.integrate.quad and use this as \n",
    "the exact value of the integral."
   ]
  },
  {
   "cell_type": "code",
   "execution_count": null,
   "metadata": {},
   "outputs": [
    {
     "name": "stdout",
     "output_type": "stream",
     "text": [
      "Exact integral: 0.966105146475311\n"
     ]
    }
   ],
   "source": [
    "exact, e = integrate.quad(f, 0, 1.5)\n",
    "print(f\"Exact integral: {exact}\")"
   ]
  },
  {
   "cell_type": "markdown",
   "metadata": {},
   "source": [
    "b) Plot 𝑒𝑟𝑟𝑓(𝑎) for a ∈ [−2,2 ]."
   ]
  },
  {
   "cell_type": "code",
   "execution_count": null,
   "metadata": {},
   "outputs": [
    {
     "data": {
      "image/png": "[encoded data removed]",
      "text/plain": [
       "<Figure size 432x288 with 1 Axes>"
      ]
     },
     "metadata": {
      "needs_background": "light"
     },
     "output_type": "display_data"
    }
   ],
   "source": [
    "errf = lambda a: integrate.quad(f, 0, a)[0]\n",
    "\n",
    "x = np.linspace(-2,2,20)\n",
    "y = list(map(errf, x))\n",
    "\n",
    "plt.plot(x, y)\n",
    "plt.xlabel('a')\n",
    "plt.ylabel('errf(a)')\n",
    "plt.title(' errf(a) for a ∈ [-2,2 ]')\n",
    "plt.show()"
   ]
  },
  {
   "cell_type": "markdown",
   "metadata": {},
   "source": [
    "c) Evaluate the integral using the Gauss integration scheme with 2, 3, 4 and 5\n",
    "integration points. Calculate the relative error in each case.\n"
   ]
  },
  {
   "cell_type": "code",
   "execution_count": null,
   "metadata": {},
   "outputs": [],
   "source": [
    "def gaussquad(n):\n",
    "    \"\"\"\n",
    "    Calculate Gauss quadrature nodes and weights.\n",
    "\n",
    "    Parameters:\n",
    "    n : int\n",
    "        The number of quadrature points.\n",
    "    \n",
    "    Returns:\n",
    "    x : ndarray\n",
    "        The quadrature nodes.\n",
    "    w : ndarray\n",
    "        The quadrature weights.\n",
    "    \"\"\"\n",
    "    b = np.zeros(n-1)\n",
    "    for i in range(np.size(b)):\n",
    "        b[i] = (i + 1) / np.sqrt(4 * (i + 1) * (i + 1) - 1)\n",
    "    \n",
    "    J = np.diag(b, -1) + np.diag(b, 1)\n",
    "    x, ev = eigh(J)\n",
    "    w = 2 * ev[0]**2\n",
    "    return x, w\n"
   ]
  },
  {
   "cell_type": "code",
   "execution_count": null,
   "metadata": {},
   "outputs": [],
   "source": [
    "def quad_gauss(f, a, b, deg):\n",
    "    \"\"\"\n",
    "    Numerical integration using Gauss quadrature.\n",
    "\n",
    "    Parameters:\n",
    "    f : function\n",
    "        The function to integrate, handle to y = f(x).\n",
    "    a : float\n",
    "        The lower bound of the integration interval.\n",
    "    b : float\n",
    "        The upper bound of the integration interval.\n",
    "    deg : int\n",
    "        The degree of the polynomial (number of Gauss points).\n",
    "    \n",
    "    Returns:\n",
    "    result : float\n",
    "        The integral of the function over [a, b].\n",
    "    \"\"\"\n",
    "    # Get Gauss points for [-1, 1]\n",
    "    gx, w = gaussquad(deg)\n",
    "    \n",
    "    # Transform to [a, b]\n",
    "    x = 0.5 * (b - a) * gx + 0.5 * (a + b)\n",
    "    y = f(x)\n",
    "    \n",
    "    # Return the integral approximation\n",
    "    return 0.5 * (b - a) * np.dot(w, y)"
   ]
  },
  {
   "cell_type": "code",
   "execution_count": null,
   "metadata": {},
   "outputs": [
    {
     "data": {
      "text/html": [
       "<style type=\"text/css\">\n",
       "</style>\n",
       "<table id=\"T_649fb\">\n",
       "  <thead>\n",
       "    <tr>\n",
       "      <th id=\"T_649fb_level0_col0\" class=\"col_heading level0 col0\" >number of nodes</th>\n",
       "      <th id=\"T_649fb_level0_col1\" class=\"col_heading level0 col1\" >approximation</th>\n",
       "      <th id=\"T_649fb_level0_col2\" class=\"col_heading level0 col2\" >relative error</th>\n",
       "    </tr>\n",
       "  </thead>\n",
       "  <tbody>\n",
       "    <tr>\n",
       "      <td id=\"T_649fb_row0_col0\" class=\"data row0 col0\" >2</td>\n",
       "      <td id=\"T_649fb_row0_col1\" class=\"data row0 col1\" >0.974173</td>\n",
       "      <td id=\"T_649fb_row0_col2\" class=\"data row0 col2\" >0.008351</td>\n",
       "    </tr>\n",
       "    <tr>\n",
       "      <td id=\"T_649fb_row1_col0\" class=\"data row1 col0\" >3</td>\n",
       "      <td id=\"T_649fb_row1_col1\" class=\"data row1 col1\" >0.965502</td>\n",
       "      <td id=\"T_649fb_row1_col2\" class=\"data row1 col2\" >0.000624</td>\n",
       "    </tr>\n",
       "    <tr>\n",
       "      <td id=\"T_649fb_row2_col0\" class=\"data row2 col0\" >4</td>\n",
       "      <td id=\"T_649fb_row2_col1\" class=\"data row2 col1\" >0.966130</td>\n",
       "      <td id=\"T_649fb_row2_col2\" class=\"data row2 col2\" >0.000025</td>\n",
       "    </tr>\n",
       "    <tr>\n",
       "      <td id=\"T_649fb_row3_col0\" class=\"data row3 col0\" >5</td>\n",
       "      <td id=\"T_649fb_row3_col1\" class=\"data row3 col1\" >0.966104</td>\n",
       "      <td id=\"T_649fb_row3_col2\" class=\"data row3 col2\" >0.000001</td>\n",
       "    </tr>\n",
       "  </tbody>\n",
       "</table>\n"
      ],
      "text/plain": [
       "<pandas.io.formats.style.Styler at 0x28f6172d550>"
      ]
     },
     "execution_count": 8,
     "metadata": {},
     "output_type": "execute_result"
    }
   ],
   "source": [
    "nodes = [2, 3, 4, 5]\n",
    "\n",
    "results = [quad_gauss(f, 0, 1.5, n) for n in nodes]\n",
    "\n",
    "relative_errors = [abs(exact - result)/exact for result in results]\n",
    "\n",
    "df = pd.DataFrame()\n",
    "df['number of nodes'] = nodes\n",
    "df['approximation'] = results\n",
    "df['relative error'] = relative_errors\n",
    "\n",
    "df.style.hide(axis='index')"
   ]
  },
  {
   "cell_type": "markdown",
   "metadata": {},
   "source": [
    "d) Calculate the number of trapeziums required by the trapezoidal rule to produce \n",
    "an error similar to that produced by the 3-point Gauss integration scheme, then \n",
    "evaluate the integral using the trapezoidal rule with the obtained number of\n",
    "trapeziums."
   ]
  },
  {
   "cell_type": "code",
   "execution_count": null,
   "metadata": {},
   "outputs": [],
   "source": [
    "def trapezoidal(func, a, b, N):\n",
    "    \"\"\"\n",
    "    Numerical quadrature based on the trapezoidal rule.\n",
    "    \n",
    "    Parameters:\n",
    "    func : function\n",
    "        The function to integrate, handle to y = f(x).\n",
    "    a : float\n",
    "        The lower bound of the integration interval.\n",
    "    b : float\n",
    "        The upper bound of the integration interval.\n",
    "    N : int\n",
    "        The number of subintervals (N+1 points).\n",
    "    \"\"\"\n",
    "    from numpy import linspace, sum\n",
    "    \n",
    "    # Quadrature nodes\n",
    "    x = np.linspace(a, b, N + 1)\n",
    "    h = x[1] - x[0]\n",
    "    \n",
    "    # Quadrature weights: internal nodes: w = 1, boundary nodes: w = 0.5\n",
    "    I = sum(func(x[1:-1])) + 0.5 * (func(x[0]) + func(x[-1]))\n",
    "    \n",
    "    return I * h"
   ]
  },
  {
   "cell_type": "code",
   "execution_count": null,
   "metadata": {},
   "outputs": [
    {
     "name": "stdout",
     "output_type": "stream",
     "text": [
      "Number of trapeziums required = 11\n",
      "Trapezoidal approximation for that number of trapeziums = 0.9655527850725197\n"
     ]
    }
   ],
   "source": [
    "# 3-point Gauss integration error\n",
    "max_error = relative_errors[1]\n",
    "\n",
    "# Trapezoid rule for different number of quadrature points\n",
    "n = 1\n",
    "while True:\n",
    "  trap_approximation = trapezoidal(f, 0, 1.5, n)\n",
    "  trap_relative_error = abs(exact - trap_approximation)/exact\n",
    "  if trap_relative_error <= max_error:\n",
    "    print(f\"Number of trapeziums required = {n}\")\n",
    "    print(f\"Trapezoidal approximation for that number of trapeziums = {trap_approximation}\")\n",
    "    break\n",
    "  n+=1\n"
   ]
  },
  {
   "cell_type": "code",
   "execution_count": null,
   "metadata": {},
   "outputs": [],
   "source": []
  }
 ],
 "metadata": {
  "kernelspec": {
   "display_name": "base",
   "language": "python",
   "name": "python3"
  },
  "language_info": {
   "codemirror_mode": {
    "name": "ipython",
    "version": 3
   },
   "file_extension": ".py",
   "mimetype": "text/x-python",
   "name": "python",
   "nbconvert_exporter": "python",
   "pygments_lexer": "ipython3",
   "version": "3.11.9"
  }
 },
 "nbformat": 4,
 "nbformat_minor": 2
}
