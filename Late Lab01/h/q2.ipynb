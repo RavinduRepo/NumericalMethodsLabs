{
 "cells": [
  {
   "cell_type": "code",
   "execution_count": 1,
   "metadata": {},
   "outputs": [],
   "source": [
    "import matplotlib.pyplot as plt\n",
    "from scipy import integrate\n",
    "from numpy import array, linspace, size, log, polyfit\n",
    "import numpy as np"
   ]
  },
  {
   "cell_type": "code",
   "execution_count": 2,
   "metadata": {},
   "outputs": [],
   "source": [
    "def simpson(func, a, b, N):\n",
    "    \"\"\"\n",
    "    Numerical quadrature based on Simpson's rule.\n",
    "    \n",
    "    Parameters:\n",
    "    func : function\n",
    "        The function to integrate, handle to y = f(x).\n",
    "    a : float\n",
    "        The lower bound of the integration interval.\n",
    "    b : float\n",
    "        The upper bound of the integration interval.\n",
    "    N : int\n",
    "        The number of subintervals (N must be even).\n",
    "    \"\"\"\n",
    "    from numpy import linspace, sum\n",
    "    \n",
    "    # Ensure that N is even\n",
    "    if N % 2:\n",
    "        raise ValueError(\"N must be even for Simpson's rule.\")\n",
    "    \n",
    "    # Quadrature nodes\n",
    "    x = linspace(a, b, N + 1)\n",
    "    h = (b - a) / N\n",
    "    \n",
    "    # Simpson's rule calculation\n",
    "    I = (func(x[0]) + func(x[-1]) +\n",
    "         4 * sum(func(x[1:-1:2])) +\n",
    "         2 * sum(func(x[2:-2:2]))) * h / 3.0\n",
    "    \n",
    "    return I"
   ]
  },
  {
   "cell_type": "code",
   "execution_count": 3,
   "metadata": {},
   "outputs": [],
   "source": [
    "# function definition\n",
    "\n",
    "f = lambda x : x*log(x)\n",
    "left = 1.0 ; right = 2.0"
   ]
  },
  {
   "cell_type": "code",
   "execution_count": 4,
   "metadata": {},
   "outputs": [
    {
     "name": "stdout",
     "output_type": "stream",
     "text": [
      "Exact integral: 0.6362943611198906\n"
     ]
    }
   ],
   "source": [
    "# Exact integration with scipy.integrate.quad\n",
    "exact, e = integrate.quad(f, left, right)\n",
    "print(f\"Exact integral: {exact}\")"
   ]
  },
  {
   "cell_type": "code",
   "execution_count": 5,
   "metadata": {},
   "outputs": [
    {
     "name": "stdout",
     "output_type": "stream",
     "text": [
      "simpson's approximation when n is 12 : 0.6362945608313058\n"
     ]
    }
   ],
   "source": [
    "# value calculated from Simpson's method, when n = 12\n",
    "\n",
    "simp_approximation = simpson(f, 1, 2, 12)\n",
    "print(f'simpson\\'s approximation when n is 12 : {simp_approximation}')"
   ]
  },
  {
   "cell_type": "code",
   "execution_count": 6,
   "metadata": {},
   "outputs": [
    {
     "name": "stdout",
     "output_type": "stream",
     "text": [
      "absolute error when n is 12 : 1.9971141518304592e-07\n"
     ]
    }
   ],
   "source": [
    "# absolute error\n",
    "\n",
    "e = abs(exact - simp_approximation)\n",
    "print(f'absolute error when n is 12 : {e}')"
   ]
  },
  {
   "cell_type": "code",
   "execution_count": 7,
   "metadata": {},
   "outputs": [
    {
     "name": "stdout",
     "output_type": "stream",
     "text": [
      "n = 2    |    e < 10-6 : False\n",
      "n = 4    |    e < 10-6 : False\n",
      "n = 6    |    e < 10-6 : False\n",
      "n = 8    |    e < 10-6 : False\n",
      "n = 10    |    e < 10-6 : True\n",
      "n = 12    |    e < 10-6 : True\n",
      "n = 14    |    e < 10-6 : True\n",
      "n = 16    |    e < 10-6 : True\n",
      "n = 18    |    e < 10-6 : True\n",
      "n = 20    |    e < 10-6 : True\n",
      "n = 22    |    e < 10-6 : True\n",
      "n = 24    |    e < 10-6 : True\n",
      "n = 26    |    e < 10-6 : True\n",
      "n = 28    |    e < 10-6 : True\n",
      "n = 30    |    e < 10-6 : True\n",
      "n = 32    |    e < 10-6 : True\n",
      "n = 34    |    e < 10-6 : True\n",
      "n = 36    |    e < 10-6 : True\n",
      "n = 38    |    e < 10-6 : True\n",
      "n = 40    |    e < 10-6 : True\n",
      "n = 42    |    e < 10-6 : True\n",
      "n = 44    |    e < 10-6 : True\n",
      "n = 46    |    e < 10-6 : True\n",
      "n = 48    |    e < 10-6 : True\n",
      "n = 50    |    e < 10-6 : True\n",
      "n = 52    |    e < 10-6 : True\n",
      "n = 54    |    e < 10-6 : True\n",
      "n = 56    |    e < 10-6 : True\n",
      "n = 58    |    e < 10-6 : True\n",
      "n = 60    |    e < 10-6 : True\n",
      "n = 62    |    e < 10-6 : True\n",
      "n = 64    |    e < 10-6 : True\n",
      "n = 66    |    e < 10-6 : True\n",
      "n = 68    |    e < 10-6 : True\n",
      "n = 70    |    e < 10-6 : True\n",
      "n = 72    |    e < 10-6 : True\n",
      "n = 74    |    e < 10-6 : True\n",
      "n = 76    |    e < 10-6 : True\n",
      "n = 78    |    e < 10-6 : True\n",
      "n = 80    |    e < 10-6 : True\n",
      "n = 82    |    e < 10-6 : True\n",
      "n = 84    |    e < 10-6 : True\n",
      "n = 86    |    e < 10-6 : True\n",
      "n = 88    |    e < 10-6 : True\n",
      "n = 90    |    e < 10-6 : True\n",
      "n = 92    |    e < 10-6 : True\n",
      "n = 94    |    e < 10-6 : True\n",
      "n = 96    |    e < 10-6 : True\n",
      "n = 98    |    e < 10-6 : True\n",
      "n = 100    |    e < 10-6 : True\n"
     ]
    }
   ],
   "source": [
    "# Simpson's rule for different number of quadrature points\n",
    "N = linspace(2, 100, 50)  # Ensure N is even\n",
    "res = array([simpson(f, left, right, int(n)) for n in N])\n",
    "err = abs(res - exact)\n",
    "\n",
    "\n",
    "for n, e in zip(N, err):\n",
    "  print(f\"n = {int(n)}    |    e < 10-6 : {e<1e-6}\")"
   ]
  },
  {
   "cell_type": "code",
   "execution_count": null,
   "metadata": {},
   "outputs": [],
   "source": []
  }
 ],
 "metadata": {
  "kernelspec": {
   "display_name": "base",
   "language": "python",
   "name": "python3"
  },
  "language_info": {
   "codemirror_mode": {
    "name": "ipython",
    "version": 3
   },
   "file_extension": ".py",
   "mimetype": "text/x-python",
   "name": "python",
   "nbconvert_exporter": "python",
   "pygments_lexer": "ipython3",
   "version": "3.11.9"
  }
 },
 "nbformat": 4,
 "nbformat_minor": 2
}
