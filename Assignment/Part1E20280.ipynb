{
 "cells": [
  {
   "cell_type": "markdown",
   "metadata": {},
   "source": [
    "## EM215 Tutorial-1 E/20/280"
   ]
  },
  {
   "cell_type": "code",
   "execution_count": 2,
   "metadata": {},
   "outputs": [],
   "source": [
    "import numpy as np\n",
    "import matplotlib.pyplot as plt\n",
    "from tabulate import tabulate\n",
    "import math"
   ]
  },
  {
   "cell_type": "markdown",
   "metadata": {},
   "source": [
    "Approach 1"
   ]
  },
  {
   "cell_type": "code",
   "execution_count": 3,
   "metadata": {},
   "outputs": [],
   "source": [
    "x = 5\n",
    "terms = 20\n",
    "ap1 = []\n",
    "ap1Ans = 0\n",
    "\n",
    "termNum = [i for i in range(terms)]\n",
    "for i in termNum:\n",
    "    ap1Ans += ((-1)**i) * (x**i)/math.factorial(i)\n",
    "    ap1.append(ap1Ans)"
   ]
  },
  {
   "cell_type": "markdown",
   "metadata": {},
   "source": [
    "Approch 2"
   ]
  },
  {
   "cell_type": "code",
   "execution_count": 4,
   "metadata": {},
   "outputs": [],
   "source": [
    "ap2 = []\n",
    "ap2Ans = 0\n",
    "ap2AnsD = 0\n",
    "\n",
    "termNum = [i for i in range(terms)]\n",
    "for i in termNum:\n",
    "    ap2AnsD += (x**i)/math.factorial(i)\n",
    "    ap2Ans = 1/ap2AnsD\n",
    "    ap2.append(ap2Ans)"
   ]
  },
  {
   "cell_type": "markdown",
   "metadata": {},
   "source": [
    "Now lets do the error analysis"
   ]
  },
  {
   "cell_type": "code",
   "execution_count": 6,
   "metadata": {},
   "outputs": [
    {
     "name": "stdout",
     "output_type": "stream",
     "text": [
      "Approach1\tApproach2\tEi(Approach1)\tEi(Approach2)\tRE(Approach1)\tRE(Approach2)\n",
      "1.0000000000\t1.0000000000\t0.9932620530\t0.9932620530\t0.9932936589\t0.9932620507\n",
      "-4.0000000000\t0.1666666667\t4.0067379470\t0.1599287197\t1.2500000000\t5.0000000000\n",
      "8.5000000000\t0.0540540541\t8.4932620530\t0.0473161071\t1.4705882353\t2.0833333333\n",
      "-12.3333333333\t0.0254237288\t12.3400712803\t0.0186857818\t1.6891891892\t1.1261261261\n",
      "13.7083333333\t0.0152963671\t13.7015953863\t0.0085584201\t1.8996960486\t0.6620762712\n",
      "-12.3333333333\t0.0109389243\t12.3400712803\t0.0042009773\t2.1114864865\t0.3983428936\n",
      "9.3680555556\t0.0088403217\t9.3613176086\t0.0021023747\t2.3165307635\t0.2373898511\n",
      "-6.1329365079\t0.0077748982\t6.1396744549\t0.0010369512\t2.5274991912\t0.1370337563\n",
      "3.5551835317\t0.0072302833\t3.5484455847\t0.0004923363\t2.7250688897\t0.0753241469\n",
      "-1.8271053792\t0.0069594529\t1.8338433262\t0.0002215059\t2.9458010316\t0.0389154734\n",
      "0.8640390763\t0.0068315063\t0.8573011293\t0.0000935593\t3.1146096622\t0.0187288930\n",
      "-0.3592084035\t0.0067748911\t0.3659463505\t0.0000369441\t3.4053977243\t0.0083566229\n",
      "0.1504780464\t0.0067515774\t0.1437400994\t0.0000136304\t3.3871150113\t0.0034530702\n",
      "-0.0455552035\t0.0067426533\t0.0522931505\t0.0000047063\t4.3032021530\t0.0013235337\n",
      "0.0244566714\t0.0067394718\t0.0177187244\t0.0000015248\t2.8626902538\t0.0004720658\n",
      "0.0011193798\t0.0067384120\t0.0056185672\t0.0000004650\t20.8484126844\t0.0001572810\n",
      "0.0084122834\t0.0067380809\t0.0016743364\t0.0000001339\t0.8669350846\t0.0000491426\n",
      "0.0062673118\t0.0067379835\t0.0004706352\t0.0000000365\t0.3422474802\t0.0000144530\n",
      "0.0068631372\t0.0067379564\t0.0001251902\t0.0000000094\t0.0868153209\t0.0000040147\n",
      "0.0067063411\t0.0067379493\t0.0000316059\t0.0000000023\t0.0233802863\t0.0000010565\n"
     ]
    }
   ],
   "source": [
    "Et1 = [] # True error\n",
    "Et2 = [] # True error\n",
    "RE1 = [] # Relative error\n",
    "RE2 = [] # Relative error\n",
    "\n",
    "Xtrue = 6.737946999085 * 10**-3\n",
    "\n",
    "print(\"Approach1\\tApproach2\\tEi(Approach1)\\tEi(Approach2)\\tRE(Approach1)\\tRE(Approach2)\")\n",
    "\n",
    "for i in termNum:\n",
    "    Et1.append(abs(ap1[i] - Xtrue))\n",
    "    RE1.append(abs((ap1[i] - ap1[i - 1]) / ap1[i]))\n",
    "\n",
    "    Et2.append(abs(ap2[i] - Xtrue))\n",
    "    RE2.append(abs((ap2[i] - ap2[i - 1]) / ap2[i]))\n",
    "\n",
    "    print(f\"{ap1[i]:.10f}\\t{ap2[i]:.10f}\\t{Et1[i]:.10f}\\t{Et2[i]:.10f}\\t{RE1[i]:.10f}\\t{RE2[i]:.10f}\")\n",
    "\n"
   ]
  }
 ],
 "metadata": {
  "kernelspec": {
   "display_name": "Python 3 (ipykernel)",
   "language": "python",
   "name": "python3"
  },
  "language_info": {
   "codemirror_mode": {
    "name": "ipython",
    "version": 3
   },
   "file_extension": ".py",
   "mimetype": "text/x-python",
   "name": "python",
   "nbconvert_exporter": "python",
   "pygments_lexer": "ipython3",
   "version": "3.11.9"
  }
 },
 "nbformat": 4,
 "nbformat_minor": 4
}
